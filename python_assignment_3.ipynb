{
 "cells": [
  {
   "cell_type": "code",
   "execution_count": 12,
   "id": "14e614dd",
   "metadata": {},
   "outputs": [
    {
     "name": "stdout",
     "output_type": "stream",
     "text": [
      "22\n"
     ]
    }
   ],
   "source": [
    "## myreduce() funtion with sum function operator\n",
    "\n",
    "def sum(a,b):\n",
    "    return a+b\n",
    "def myreduce(lit):\n",
    "    total = 0\n",
    "    for i in lit:\n",
    "        total = sum(total,i)\n",
    "        \n",
    "    return total\n",
    "ans = myreduce([1,2,3,4,5,7])        \n",
    "print(ans)"
   ]
  },
  {
   "cell_type": "code",
   "execution_count": 16,
   "id": "ec40c072",
   "metadata": {},
   "outputs": [
    {
     "name": "stdout",
     "output_type": "stream",
     "text": [
      "22\n"
     ]
    }
   ],
   "source": [
    "## by python reduce function\n",
    "from functools import reduce\n",
    "lit = [1,2,3,4,5,6,7,8,9,10]\n",
    "ans  = reduce(lambda a,b : a+b,lit )\n",
    "print(ans)"
   ]
  },
  {
   "cell_type": "code",
   "execution_count": 19,
   "id": "39079726",
   "metadata": {},
   "outputs": [
    {
     "name": "stdout",
     "output_type": "stream",
     "text": [
      "([2, 4, 6, 8, 10], [1, 3, 5, 7, 9])\n"
     ]
    }
   ],
   "source": [
    "## myfilter()\n",
    "def myfilter(sequence):\n",
    "    even = []\n",
    "    odd = []\n",
    "    for i in sequence:\n",
    "        if i%2==0:\n",
    "            even.append(i)\n",
    "        elif i%2!=0:\n",
    "            odd.append(i)\n",
    "        else:\n",
    "            pass\n",
    "    return even,odd\n",
    "numbers = [1,2,3,4,5,6,7,8,9,10]        \n",
    "ans_2 = myfilter(numbers)\n",
    "print(ans_2)\n",
    "    \n"
   ]
  },
  {
   "cell_type": "code",
   "execution_count": 25,
   "id": "3df0bcf8",
   "metadata": {},
   "outputs": [
    {
     "name": "stdout",
     "output_type": "stream",
     "text": [
      "2\n",
      "4\n",
      "6\n",
      "8\n",
      "10\n"
     ]
    }
   ],
   "source": [
    "## filter function in python\n",
    "def testing(integer):\n",
    "    if int(integer)%2==0:\n",
    "        return True\n",
    "    else:\n",
    "        return False\n",
    "number = [1,2,3,4,5,6,7,8,9,10]        \n",
    "ans_3 = filter(testing,number)\n",
    "for i in ans_3:\n",
    "    print(i)"
   ]
  },
  {
   "cell_type": "code",
   "execution_count": 39,
   "id": "cf88532b",
   "metadata": {},
   "outputs": [
    {
     "name": "stdout",
     "output_type": "stream",
     "text": [
      "['x', 'xx', 'xxx', 'xxxx', 'y', 'yy', 'yyy', 'yyyy', 'z', 'zz', 'zzz', 'zzzz']\n",
      "['x', 'y', 'z', 'xx', 'yy', 'zz', 'xxx', 'yyy', 'zzz', 'xxxx', 'yyyy', 'zzzz']\n",
      "[[2], [3], [4], [3], [4], [5], [4], [5], [6]]\n",
      "[[2, 3, 4, 5], [3, 4, 5, 6], [4, 5, 6, 7]]\n",
      "[(1, 1), (2, 1), (3, 1), (1, 2), (2, 2), (3, 2), (1, 3), (2, 3), (3, 3)]\n"
     ]
    }
   ],
   "source": [
    "## list comprehension\n",
    "letters = 'xyz'\n",
    "x1 = [x*i for x in letters for i in range(1,5)]\n",
    "print(x1)\n",
    "\n",
    "## 2nd \n",
    "x2 = [x*i for i in range(1,5) for x in letters]\n",
    "print(x2)\n",
    "\n",
    "## 3rd \n",
    "x3 = [[x+i] for x in range(2,5) for i in range(0,3)]\n",
    "print(x3)\n",
    "\n",
    "## 4th\n",
    "x4 = [[x+i for x in range(2,6)] for i in range(0,3)]\n",
    "print(x4)\n",
    "\n",
    "## 5th\n",
    "x5 = [(x,y)  for y in range(1,4) for x in range(1,4)]\n",
    "print(x5)"
   ]
  }
 ],
 "metadata": {
  "kernelspec": {
   "display_name": "Python 3",
   "language": "python",
   "name": "python3"
  },
  "language_info": {
   "codemirror_mode": {
    "name": "ipython",
    "version": 3
   },
   "file_extension": ".py",
   "mimetype": "text/x-python",
   "name": "python",
   "nbconvert_exporter": "python",
   "pygments_lexer": "ipython3",
   "version": "3.8.8"
  }
 },
 "nbformat": 4,
 "nbformat_minor": 5
}
