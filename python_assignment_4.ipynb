{
 "cells": [
  {
   "cell_type": "code",
   "execution_count": 4,
   "id": "33045a4e",
   "metadata": {},
   "outputs": [],
   "source": [
    "##question 1.1\n"
   ]
  },
  {
   "cell_type": "code",
   "execution_count": 1,
   "id": "3bc4bcb8",
   "metadata": {},
   "outputs": [],
   "source": [
    "class Triangle:\n",
    "    def __init__(self):\n",
    "        sides = ['a','b','c']\n",
    "        self.trianglesides = sides\n",
    "        \n",
    "    def sidesoftriangles(self):\n",
    "        self.trisides = [input(\"enter the side\") for i in self.trianglesides]\n",
    "        \n",
    "class Area(Triangle):\n",
    "    def __init__(self):\n",
    "        Triangle.__init__(self)\n",
    "        \n",
    "    def areaoftringle(self):\n",
    "        triangleSides=iter(self.trisides)\n",
    "        a=float(next(triangleSides))\n",
    "        b=float(next(triangleSides))\n",
    "        c=float(next(triangleSides))\n",
    "        \n",
    "        s= (a+b+c)*0.5        \n",
    "                 \n",
    "        Area = (s*(s-a)*(s-b)*(s-c))**0.5    \n",
    "        print(\"The sides of triangle are a=\"+str(a)+\", b=\"+str(b)+\", c=\"+str(c))     \n",
    "        Area = ('The Area of the triangle is %0.2f' %Area )\n",
    "        #return Area\n",
    "        print(Area)\n",
    "            "
   ]
  },
  {
   "cell_type": "code",
   "execution_count": 2,
   "id": "e087ed08",
   "metadata": {},
   "outputs": [],
   "source": [
    "triarea  = Area()"
   ]
  },
  {
   "cell_type": "code",
   "execution_count": 3,
   "id": "c7c41307",
   "metadata": {},
   "outputs": [
    {
     "name": "stdout",
     "output_type": "stream",
     "text": [
      "enter the side\n",
      "enter the side\n",
      "enter the side45\n"
     ]
    }
   ],
   "source": [
    "triarea.sidesoftriangles()"
   ]
  },
  {
   "cell_type": "markdown",
   "id": "27c87b9d",
   "metadata": {},
   "source": [
    "triarea.areaoftringle()"
   ]
  },
  {
   "cell_type": "code",
   "execution_count": 4,
   "id": "e4168762",
   "metadata": {},
   "outputs": [],
   "source": [
    "##1.2"
   ]
  },
  {
   "cell_type": "code",
   "execution_count": 8,
   "id": "8f720295",
   "metadata": {},
   "outputs": [
    {
     "name": "stdout",
     "output_type": "stream",
     "text": [
      "Input:\n",
      "Please enter your words: aravind,sushma,ragamala\n",
      "Please enter your number: 4\n"
     ]
    },
    {
     "data": {
      "text/plain": [
       "['aravind', 'sushma', 'ragamala']"
      ]
     },
     "execution_count": 8,
     "metadata": {},
     "output_type": "execute_result"
    }
   ],
   "source": [
    "def filter_long_words(list,n):\n",
    "    newlist = []\n",
    "    for i in list:\n",
    "        if len(i.strip())>n:\n",
    "            newlist.append(i.strip())\n",
    "            \n",
    "    return newlist\n",
    "\n",
    "print(\"Input:\")\n",
    "string= input(\"Please enter your words: \")\n",
    "number= int(input(\"Please enter your number: \"))\n",
    "\n",
    "\n",
    "list1 = list(string.split(\",\"))\n",
    "\n",
    "filter_long_words(list1,number)\n",
    "            "
   ]
  },
  {
   "cell_type": "code",
   "execution_count": 9,
   "id": "a80f677c",
   "metadata": {},
   "outputs": [],
   "source": [
    "##2.1"
   ]
  },
  {
   "cell_type": "code",
   "execution_count": 11,
   "id": "f25efa45",
   "metadata": {},
   "outputs": [
    {
     "name": "stdout",
     "output_type": "stream",
     "text": [
      "[2, 3, 4, 4, 4]\n"
     ]
    }
   ],
   "source": [
    "def listmapping(list):\n",
    "    newlist = []\n",
    "    for i in list:\n",
    "        newlist.append(len(i))\n",
    "        \n",
    "    return newlist\n",
    "words = ['ab','cde','erty','dhfd','rtgb']\n",
    "ans = listmapping(words)\n",
    "print(ans)\n",
    "    \n",
    "    "
   ]
  },
  {
   "cell_type": "code",
   "execution_count": 12,
   "id": "56dd8a7d",
   "metadata": {},
   "outputs": [
    {
     "name": "stdout",
     "output_type": "stream",
     "text": [
      "enter the characterr\n",
      "False\n"
     ]
    }
   ],
   "source": [
    "def voweldetection():\n",
    "    charac = input(\"enter the character\")\n",
    "    vowels = ['a','e','i','o','u']\n",
    "    if charac in vowels:\n",
    "        return True\n",
    "    else:\n",
    "        return False\n",
    "    \n",
    "print(voweldetection())"
   ]
  }
 ],
 "metadata": {
  "kernelspec": {
   "display_name": "Python 3",
   "language": "python",
   "name": "python3"
  },
  "language_info": {
   "codemirror_mode": {
    "name": "ipython",
    "version": 3
   },
   "file_extension": ".py",
   "mimetype": "text/x-python",
   "name": "python",
   "nbconvert_exporter": "python",
   "pygments_lexer": "ipython3",
   "version": "3.8.8"
  }
 },
 "nbformat": 4,
 "nbformat_minor": 5
}
