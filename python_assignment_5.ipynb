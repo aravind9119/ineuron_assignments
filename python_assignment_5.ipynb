{
 "cells": [
  {
   "cell_type": "code",
   "execution_count": 2,
   "id": "472dd4d5",
   "metadata": {},
   "outputs": [],
   "source": [
    "##1"
   ]
  },
  {
   "cell_type": "code",
   "execution_count": 14,
   "id": "7983baae",
   "metadata": {},
   "outputs": [
    {
     "name": "stdout",
     "output_type": "stream",
     "text": [
      "denominator cannot be 0\n"
     ]
    }
   ],
   "source": [
    "def division():\n",
    "    try:\n",
    "        a = 5/0\n",
    "    except ZeroDivisionError:\n",
    "        print(\"denominator cannot be 0\")\n",
    "division()"
   ]
  },
  {
   "cell_type": "code",
   "execution_count": null,
   "id": "90992f32",
   "metadata": {},
   "outputs": [],
   "source": [
    "##2"
   ]
  },
  {
   "cell_type": "code",
   "execution_count": 12,
   "id": "794a96b5",
   "metadata": {},
   "outputs": [
    {
     "name": "stdout",
     "output_type": "stream",
     "text": [
      "Americans playBaseball.\n",
      "Americans playCricket.\n",
      "Americans watchBaseball.\n",
      "Americans watchCricket.\n",
      "IndiansplayBaseball.\n",
      "IndiansplayCricket.\n",
      "IndianswatchBaseball.\n",
      "IndianswatchCricket.\n"
     ]
    }
   ],
   "source": [
    "def sentences():\n",
    "    subjects=[\"Americans \",\"Indians\"]\n",
    "    verbs=[\"play\",\"watch\"]\n",
    "    objects=[\"Baseball\",\"Cricket\"]\n",
    "    \n",
    "    for i in subjects:\n",
    "        for j in verbs:\n",
    "            for k in objects:\n",
    "                print(str(i)+str(j)+str(k)+\".\")\n",
    "                \n",
    "                \n",
    "sentences()\n",
    "    "
   ]
  }
 ],
 "metadata": {
  "kernelspec": {
   "display_name": "Python 3",
   "language": "python",
   "name": "python3"
  },
  "language_info": {
   "codemirror_mode": {
    "name": "ipython",
    "version": 3
   },
   "file_extension": ".py",
   "mimetype": "text/x-python",
   "name": "python",
   "nbconvert_exporter": "python",
   "pygments_lexer": "ipython3",
   "version": "3.8.8"
  }
 },
 "nbformat": 4,
 "nbformat_minor": 5
}
